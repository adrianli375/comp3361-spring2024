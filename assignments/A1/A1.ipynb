{
  "nbformat": 4,
  "nbformat_minor": 0,
  "metadata": {
    "colab": {
      "provenance": [],
      "toc_visible": true
    },
    "kernelspec": {
      "name": "python3",
      "display_name": "Python 3"
    },
    "language_info": {
      "name": "python"
    }
  },
  "cells": [
    {
      "cell_type": "markdown",
      "source": [
        "# Assignment 1\n",
        "You should submit the **UniversityNumber.ipynb** file and your final prediction file **UniversityNumber.test.out** to moodle. Make sure your code does not use your local files and that the results are reproducible. Before submitting, please **run your notebook and keep all running logs** so that we can check."
      ],
      "metadata": {
        "id": "wI4A-T0z5AU6"
      }
    },
    {
      "cell_type": "markdown",
      "source": [
        "## 1 $n$-gram Language Model"
      ],
      "metadata": {
        "id": "gEomoMzH5Nf6"
      }
    },
    {
      "cell_type": "code",
      "source": [
        "!wget -O train.txt https://raw.githubusercontent.com/ranpox/comp7607-fall2022/main/assignments/A1/data/lm/train.txt\n",
        "!wget -O dev.txt https://raw.githubusercontent.com/ranpox/comp7607-fall2022/main/assignments/A1/data/lm/dev.txt\n",
        "!wget -O test.txt https://raw.githubusercontent.com/ranpox/comp7607-fall2022/main/assignments/A1/data/lm/test.txt"
      ],
      "metadata": {
        "id": "YsSAtTqt7Q8a"
      },
      "execution_count": null,
      "outputs": []
    },
    {
      "cell_type": "markdown",
      "source": [
        "### 1.1 Building vocabulary"
      ],
      "metadata": {
        "id": "7ElrINWW7oF7"
      }
    },
    {
      "cell_type": "markdown",
      "source": [
        "#### Code"
      ],
      "metadata": {
        "id": "eawcuVV19kZm"
      }
    },
    {
      "cell_type": "code",
      "source": [],
      "metadata": {
        "id": "q-rNT_QL8Dvt"
      },
      "execution_count": null,
      "outputs": []
    },
    {
      "cell_type": "markdown",
      "source": [
        "#### Discussion"
      ],
      "metadata": {
        "id": "e7oBATsX8uHb"
      }
    },
    {
      "cell_type": "markdown",
      "source": [],
      "metadata": {
        "id": "PU6VpAkS9odh"
      }
    },
    {
      "cell_type": "markdown",
      "source": [
        "### 1.2 $n$-gram Language Modeling"
      ],
      "metadata": {
        "id": "lJ2BGUig8TqH"
      }
    },
    {
      "cell_type": "markdown",
      "source": [
        "#### Code"
      ],
      "metadata": {
        "id": "jeyANMPe9ad_"
      }
    },
    {
      "cell_type": "code",
      "source": [],
      "metadata": {
        "id": "ACSfNZGE8Yw2"
      },
      "execution_count": null,
      "outputs": []
    },
    {
      "cell_type": "markdown",
      "source": [
        "#### Discussion"
      ],
      "metadata": {
        "id": "SRWC56a19TbY"
      }
    },
    {
      "cell_type": "markdown",
      "source": [],
      "metadata": {
        "id": "sM4gcgL--Ylh"
      }
    },
    {
      "cell_type": "markdown",
      "source": [
        "### 1.3 Smoothing"
      ],
      "metadata": {
        "id": "cuLL8CH1Ua-3"
      }
    },
    {
      "cell_type": "markdown",
      "source": [
        "#### 1.3.1 Add-one (Laplace) smoothing"
      ],
      "metadata": {
        "id": "r7mWQhaCUixZ"
      }
    },
    {
      "cell_type": "markdown",
      "source": [
        "##### Code"
      ],
      "metadata": {
        "id": "ZbbHxLDmVrz6"
      }
    },
    {
      "cell_type": "code",
      "source": [],
      "metadata": {
        "id": "93_yLu9dVr0C"
      },
      "execution_count": null,
      "outputs": []
    },
    {
      "cell_type": "markdown",
      "source": [
        "##### Discussion"
      ],
      "metadata": {
        "id": "8y1WOQtsVr0D"
      }
    },
    {
      "cell_type": "markdown",
      "source": [],
      "metadata": {
        "id": "WTknh9pRVr0D"
      }
    },
    {
      "cell_type": "markdown",
      "source": [
        "##### Optional: Add-k smoothing"
      ],
      "metadata": {
        "id": "pTC0qJE8VVha"
      }
    },
    {
      "cell_type": "markdown",
      "source": [
        "###### Code"
      ],
      "metadata": {
        "id": "b3itGMOOVuNg"
      }
    },
    {
      "cell_type": "code",
      "source": [],
      "metadata": {
        "id": "jhcuJWo7VuNg"
      },
      "execution_count": null,
      "outputs": []
    },
    {
      "cell_type": "markdown",
      "source": [
        "###### Discussion"
      ],
      "metadata": {
        "id": "AzpU_p6CVuNg"
      }
    },
    {
      "cell_type": "markdown",
      "source": [],
      "metadata": {
        "id": "YIOUpNXYVuNh"
      }
    },
    {
      "cell_type": "markdown",
      "source": [
        "#### 1.3.2 Linear Interpolation"
      ],
      "metadata": {
        "id": "zJFWxsN-Uj0Y"
      }
    },
    {
      "cell_type": "markdown",
      "source": [
        "##### Code"
      ],
      "metadata": {
        "id": "hk11EpboWVCH"
      }
    },
    {
      "cell_type": "code",
      "source": [],
      "metadata": {
        "id": "K4N_XuN6WVCQ"
      },
      "execution_count": null,
      "outputs": []
    },
    {
      "cell_type": "markdown",
      "source": [
        "##### Discussion"
      ],
      "metadata": {
        "id": "Kh8v2P36WVCQ"
      }
    },
    {
      "cell_type": "markdown",
      "source": [],
      "metadata": {
        "id": "bGkf6IV0WVCQ"
      }
    },
    {
      "cell_type": "markdown",
      "source": [
        "##### Optional: Optimization"
      ],
      "metadata": {
        "id": "wvgTZcNFVato"
      }
    },
    {
      "cell_type": "markdown",
      "source": [
        "###### Discussion"
      ],
      "metadata": {
        "id": "zKnXu98hWcfu"
      }
    },
    {
      "cell_type": "markdown",
      "source": [],
      "metadata": {
        "id": "fKo4ZLASWcfu"
      }
    },
    {
      "cell_type": "markdown",
      "source": [
        "## 2 Preposition Prediction"
      ],
      "metadata": {
        "id": "3E8xYXuCUoAR"
      }
    },
    {
      "cell_type": "code",
      "source": [
        "!wget -O dev.in https://raw.githubusercontent.com/ranpox/comp7607-fall2022/main/assignments/A1/data/prep/dev.in\n",
        "!wget -O dev.out https://raw.githubusercontent.com/ranpox/comp7607-fall2022/main/assignments/A1/data/prep/dev.out"
      ],
      "metadata": {
        "id": "gewisxM5W5kQ"
      },
      "execution_count": null,
      "outputs": []
    }
  ]
}